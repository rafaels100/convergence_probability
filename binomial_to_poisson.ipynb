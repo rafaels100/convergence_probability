{
 "cells": [
  {
   "cell_type": "markdown",
   "id": "379ea678-d0e8-40d7-bbdd-3eb1a5de4c86",
   "metadata": {},
   "source": [
    "# Binomial to Poisson: an example of convergence in distribution\n",
    "\n",
    "## Abstract\n",
    "The idea is to simulate a sequence of random variables with binomial distribution, and to see how that sequence approaches to a Poisson distribution as n goes to infinity."
   ]
  },
  {
   "cell_type": "markdown",
   "id": "4ac389a0-d44c-460f-b34c-6e6376919dc1",
   "metadata": {},
   "source": [
    "Let $(X_{n})_{n \\in N}$ be a sequence of random variables with Binomial distribution such that $X_{n}\\sim Bin(n, \\frac{p}{n})$, and be $X$ a random variable such that $X \\sim Poi(p)$. \n",
    "\n",
    "Then, $(X_{n})_{n \\in N}$ converges in distribution to $X$."
   ]
  },
  {
   "cell_type": "markdown",
   "id": "9f4c4897-74ca-42c1-9c38-349064b860bf",
   "metadata": {},
   "source": [
    "# Getting things ready"
   ]
  },
  {
   "cell_type": "markdown",
   "id": "b74dfb27-86a5-4966-ae29-9bed84b4942b",
   "metadata": {},
   "source": [
    "## Importing the libraries"
   ]
  },
  {
   "cell_type": "code",
   "execution_count": 13,
   "id": "9b746338-6785-42a7-a080-38373dae948e",
   "metadata": {},
   "outputs": [],
   "source": [
    "import random\n",
    "import math"
   ]
  },
  {
   "cell_type": "markdown",
   "id": "ba26c4f4-d032-445c-be46-e423abe00e73",
   "metadata": {},
   "source": [
    "## Starting from scratch: The Bernoulli distribution\n",
    "A Binomial distribution is nothing but a sequence of many Bernoulli trials, thus, we will be creating the setup for making Bernoulli trials"
   ]
  },
  {
   "cell_type": "code",
   "execution_count": 8,
   "id": "5e0e1c8e-48fd-4604-909d-1a96d643a716",
   "metadata": {},
   "outputs": [],
   "source": [
    "p = 1/3  # Probability of success in a Bernoulli experiment\n",
    "\n",
    "#a Bernoulii trial is successfull or not, its a binary result\n",
    "def bernoulli(p):\n",
    "    return int(random.random() < p)"
   ]
  },
  {
   "cell_type": "markdown",
   "id": "4df54d21-cf67-4aa2-8eda-9aa4f05b11ab",
   "metadata": {},
   "source": [
    "## Creating all the different probability spaces\n",
    "Each random variable has its own probability space. We will create, for each N sample space, M sample points."
   ]
  },
  {
   "cell_type": "code",
   "execution_count": 9,
   "id": "e965b3bd-ca26-4839-9475-f8f216d9be7a",
   "metadata": {},
   "outputs": [],
   "source": [
    "N = 25 #amount of random variables in the sequence\n",
    "M = 10 #amount of sample points for each sample space\n",
    "spaces = [[[bernoulli(p/n) for _ in range(n)] for _ in range(M)] for n in range(1, N + 1)]"
   ]
  },
  {
   "cell_type": "markdown",
   "id": "3c4154b8-a8bf-48e6-b8e2-d44a17805514",
   "metadata": {},
   "source": [
    "### Explanation\n",
    "What we do here is:\n",
    "* for n in range(1, N + 1):\n",
    "\n",
    "   Here, we loop through all N random variables, and we will create sample points for each sample space\n",
    "* for _ in range(M):\n",
    "  \n",
    "   Here, for a particular $n \\in \\{1,..,N\\}$, we create $M$ sample points $\\omega \\in \\Omega$, and each $\\omega$ comes from the sample space $\\Omega$ we are sampling from.\n",
    "* [bernoulli(p/n) for _ in range(n)]:\n",
    "\n",
    "  Given the length n of the sample point, we create it here. For example, if n = 1, the sample point consist only in running one Bernoulli trial, but if n = 10, then the sample point will consist in 10 Bernoulli trials."
   ]
  },
  {
   "cell_type": "markdown",
   "id": "fd031cd6-6931-4d02-a938-042ce3fd8cd5",
   "metadata": {},
   "source": [
    "## Definition of the random variable\n",
    "X counts the total number of successes in the experiment. We define it as such:\n",
    "\n",
    "$$\n",
    "\\begin{gather*}\n",
    "X : \\Omega \\to \\mathbb{R}, \\\\\n",
    "\\omega \\mapsto \\text{number of successes in the experiment}\n",
    "\\end{gather*}\n",
    "$$"
   ]
  },
  {
   "cell_type": "code",
   "execution_count": 10,
   "id": "817c843d-68c7-4c05-bc78-c1455a2dec30",
   "metadata": {},
   "outputs": [],
   "source": [
    "# Define the random variable\n",
    "# X: Omega -> R \n",
    "#     w    |-> number of successes in the experiment\n",
    "def X(w):\n",
    "    return sum(w)"
   ]
  },
  {
   "cell_type": "markdown",
   "id": "d45e6236-dca8-4cbd-b7e5-e83a0eb4d82c",
   "metadata": {},
   "source": [
    "# Calculations"
   ]
  },
  {
   "cell_type": "markdown",
   "id": "4e574e51-66fd-42b9-b92f-4dde1b6e84d7",
   "metadata": {},
   "source": [
    "## Counting successes\n",
    "The image of $X_n$ keeps growing. This is another indication that each $X_n$ is a different random variable, although very similar to the others. It has different probability space, so different Domain, and differente Image, because each time a new posibility for success is added, newer Bernoulli trials are performed as n grows."
   ]
  },
  {
   "cell_type": "code",
   "execution_count": 11,
   "id": "14054630-8f50-4643-a34d-56145f09ef00",
   "metadata": {},
   "outputs": [
    {
     "name": "stdout",
     "output_type": "stream",
     "text": [
      "[[0, 1, 0, 1, 1, 1, 1, 0, 0, 0], [0, 1, 0, 0, 0, 0, 1, 0, 0, 0], [0, 0, 1, 0, 0, 1, 0, 0, 0, 0], [1, 0, 1, 0, 0, 1, 1, 0, 0, 2], [0, 0, 0, 0, 0, 0, 0, 0, 0, 1], [1, 0, 1, 1, 0, 1, 1, 0, 0, 0], [0, 1, 2, 1, 0, 1, 0, 0, 0, 0], [0, 0, 0, 0, 0, 0, 0, 1, 2, 0], [1, 0, 1, 0, 0, 0, 0, 0, 1, 0], [0, 0, 0, 0, 0, 0, 0, 0, 0, 0], [1, 0, 1, 0, 1, 1, 0, 0, 0, 0], [0, 0, 0, 1, 1, 0, 0, 0, 0, 0], [2, 0, 0, 0, 0, 0, 0, 1, 0, 0], [0, 0, 0, 0, 1, 0, 0, 0, 0, 1], [0, 0, 0, 2, 1, 0, 0, 0, 0, 0], [0, 0, 1, 0, 0, 1, 0, 1, 0, 2], [1, 0, 0, 1, 1, 1, 0, 2, 0, 1], [0, 0, 0, 1, 0, 0, 0, 0, 0, 1], [1, 0, 0, 0, 0, 0, 0, 1, 0, 1], [0, 0, 0, 0, 0, 1, 0, 0, 2, 0], [0, 0, 1, 0, 1, 0, 0, 0, 0, 0], [0, 1, 1, 0, 1, 0, 0, 0, 1, 0], [2, 0, 0, 1, 0, 0, 0, 0, 0, 1], [2, 0, 1, 1, 0, 0, 0, 0, 0, 0], [1, 0, 0, 0, 0, 1, 0, 1, 0, 1]]\n"
     ]
    }
   ],
   "source": [
    "successes = [[X(w) for w in omega] for omega in spaces]\n",
    "print(successes)"
   ]
  },
  {
   "cell_type": "markdown",
   "id": "97fddc51-83e5-42c8-a8ed-da27a31ccbe4",
   "metadata": {},
   "source": [
    "## Probability of getting one success\n",
    "Even though each random variable has different image, what we do have in each space is at least one success in all of them. We can compute in each R.V. the probability of getting exactly one success.\n",
    "This should be the same in all cases. The fact that the success probability is smaller in each case is compensated by doing more experiments."
   ]
  },
  {
   "cell_type": "code",
   "execution_count": 14,
   "id": "16333df3-1414-4b1b-8b86-ee5badb9a62a",
   "metadata": {},
   "outputs": [
    {
     "name": "stdout",
     "output_type": "stream",
     "text": [
      "[0.5, 0.2, 0.2, 0.4, 0.1, 0.5, 0.3, 0.1, 0.3, 0.0, 0.4, 0.2, 0.1, 0.2, 0.1, 0.3, 0.5, 0.2, 0.3, 0.1, 0.2, 0.4, 0.2, 0.2, 0.4]\n"
     ]
    }
   ],
   "source": [
    "prob_one_success = [sum([1 for x in X if x == 1])/len(X) for X in successes]\n",
    "print(prob_one_success)"
   ]
  },
  {
   "cell_type": "markdown",
   "id": "8b8f8935-ceea-40f2-ba69-35b96dab8754",
   "metadata": {},
   "source": [
    "## Convergence in distribution\n",
    "In the limit, as n -> ∞, the probability that the last element in the sequence X_n is 1 closely approximates\n",
    "the probability that X = 1 with X following a Poisson distribution.\n",
    "\n",
    "$$\\lim_{n \\to \\infty} \\mathbb{P}(X_n = 1) = \\mathbb{P}_X(X = 1), \\quad \\text{con } X \\sim \\text{Poi}(p)$$"
   ]
  },
  {
   "cell_type": "code",
   "execution_count": 17,
   "id": "461080ef-00d3-4218-bc94-7f2a5e39b564",
   "metadata": {},
   "outputs": [
    {
     "name": "stdout",
     "output_type": "stream",
     "text": [
      "0.4 0.23884377019126307\n"
     ]
    }
   ],
   "source": [
    "print(prob_one_success[N-1], p * math.e ** -p)"
   ]
  },
  {
   "cell_type": "markdown",
   "id": "f3202c8f-e681-4100-ade2-83f114e89034",
   "metadata": {},
   "source": [
    "Convergence in distribution means that this not only works for $P(X_n=1)$, but also for any $k <= n$. Thus, we know that\n",
    "\n",
    "$$\n",
    "\\lim_{n \\to \\infty} \\mathbb{P}(X_n = k) = \\mathbb{P}_X(X = k), \\quad \\text{con } X \\sim \\text{Poi}(p)\n",
    "$$\n"
   ]
  },
  {
   "cell_type": "code",
   "execution_count": 28,
   "id": "77f2b627-7e90-4912-a8f3-04e3799df435",
   "metadata": {},
   "outputs": [
    {
     "name": "stdout",
     "output_type": "stream",
     "text": [
      "0.4 0.04087549346349359\n"
     ]
    }
   ],
   "source": [
    "def P_X_n(k):\n",
    "    #I keep the last element of the sequence\n",
    "    return [sum([k for x in X if x == k])/len(X) for X in successes][-1]\n",
    "k = 1\n",
    "res = P_X_n(k)\n",
    "#and this must be equal to P(X=k) with X poisson\n",
    "print(res, p * math.e ** - k * p)"
   ]
  },
  {
   "cell_type": "markdown",
   "id": "5fb9db46-fecb-4ad2-8809-f1acd91ecb12",
   "metadata": {},
   "source": [
    "## Expectation in convergence in distribution\n",
    "The expectation of the last variable, E[X_n] as n -> ∞ is the expectation of the R.V. X with Poisson distribution, to which X_n converges in distribution. This doesn't always happen; additional hypotheses are needed."
   ]
  },
  {
   "cell_type": "code",
   "execution_count": 29,
   "id": "cb29f24c-a252-4089-bd19-34e51ae6cfde",
   "metadata": {},
   "outputs": [
    {
     "name": "stdout",
     "output_type": "stream",
     "text": [
      "E[X_n] = 0.4, 0.3333333333333333\n"
     ]
    }
   ],
   "source": [
    "expectations = [sum(X) / len(X) for X in successes]\n",
    "print(f\"E[X_n] = {expectations[N-1]}, {p}\")"
   ]
  }
 ],
 "metadata": {
  "kernelspec": {
   "display_name": "Python 3 (ipykernel)",
   "language": "python",
   "name": "python3"
  },
  "language_info": {
   "codemirror_mode": {
    "name": "ipython",
    "version": 3
   },
   "file_extension": ".py",
   "mimetype": "text/x-python",
   "name": "python",
   "nbconvert_exporter": "python",
   "pygments_lexer": "ipython3",
   "version": "3.12.7"
  }
 },
 "nbformat": 4,
 "nbformat_minor": 5
}
